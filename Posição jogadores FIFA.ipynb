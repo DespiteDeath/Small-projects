{
 "cells": [
  {
   "cell_type": "markdown",
   "metadata": {},
   "source": [
    "# Importing things"
   ]
  },
  {
   "cell_type": "code",
   "execution_count": 1,
   "metadata": {},
   "outputs": [],
   "source": [
    "import pandas as pd\n",
    "import numpy as np\n",
    "import matplotlib.pyplot as plt\n",
    "import seaborn as sns\n",
    "\n",
    "from sklearn.model_selection import KFold\n",
    "from sklearn.model_selection import cross_val_score\n",
    "from sklearn.model_selection import GridSearchCV\n",
    "from sklearn import preprocessing\n",
    "from sklearn.neural_network import MLPClassifier\n",
    "from sklearn.naive_bayes import BernoulliNB\n",
    "from sklearn.ensemble import RandomForestClassifier\n",
    "from xgboost import XGBClassifier\n",
    "import collections as cll\n",
    "import warnings\n",
    "warnings.filterwarnings('ignore')\n",
    "%matplotlib inline"
   ]
  },
  {
   "cell_type": "markdown",
   "metadata": {},
   "source": [
    "# Reading the data"
   ]
  },
  {
   "cell_type": "code",
   "execution_count": 2,
   "metadata": {},
   "outputs": [],
   "source": [
    "train = pd.read_csv('train.csv')\n",
    "test = pd.read_csv('test.csv')\n",
    "ans = pd.DataFrame()"
   ]
  },
  {
   "cell_type": "code",
   "execution_count": 3,
   "metadata": {},
   "outputs": [
    {
     "name": "stdout",
     "output_type": "stream",
     "text": [
      "True\n"
     ]
    }
   ],
   "source": [
    "# Verificar se os dados de teste estão nos dados de treinamento\n",
    "# Check if the test data is in the training data\n",
    "print(set(test.columns).issubset(set(train.columns)))"
   ]
  },
  {
   "cell_type": "markdown",
   "metadata": {},
   "source": [
    "## Quick data exploration"
   ]
  },
  {
   "cell_type": "code",
   "execution_count": 4,
   "metadata": {},
   "outputs": [
    {
     "name": "stdout",
     "output_type": "stream",
     "text": [
      "<class 'pandas.core.frame.DataFrame'>\n",
      "RangeIndex: 4829 entries, 0 to 4828\n",
      "Data columns (total 55 columns):\n",
      "ID                                    4829 non-null object\n",
      "height_cm                             4829 non-null float64\n",
      "weight_kg                             4829 non-null float64\n",
      "eur_wage                              4829 non-null float64\n",
      "skill_moves                           4829 non-null int64\n",
      "weak_foot                             4829 non-null int64\n",
      "crossing                              4829 non-null int64\n",
      "finishing                             4829 non-null int64\n",
      "heading_accuracy                      4829 non-null int64\n",
      "short_passing                         4829 non-null int64\n",
      "volleys                               4829 non-null int64\n",
      "dribbling                             4829 non-null int64\n",
      "curve                                 4829 non-null int64\n",
      "free_kick_accuracy                    4829 non-null int64\n",
      "long_passing                          4829 non-null int64\n",
      "ball_control                          4829 non-null int64\n",
      "acceleration                          4829 non-null int64\n",
      "sprint_speed                          4829 non-null int64\n",
      "agility                               4829 non-null int64\n",
      "reactions                             4829 non-null int64\n",
      "balance                               4829 non-null int64\n",
      "shot_power                            4829 non-null int64\n",
      "jumping                               4829 non-null int64\n",
      "stamina                               4829 non-null int64\n",
      "strength                              4829 non-null int64\n",
      "long_shots                            4829 non-null int64\n",
      "aggression                            4829 non-null int64\n",
      "interceptions                         4829 non-null int64\n",
      "positioning                           4829 non-null int64\n",
      "vision                                4829 non-null int64\n",
      "penalties                             4829 non-null int64\n",
      "composure                             4829 non-null int64\n",
      "marking                               4829 non-null int64\n",
      "standing_tackle                       4829 non-null int64\n",
      "body_type                             4829 non-null object\n",
      "nationality                           4829 non-null object\n",
      "preferred_foot                        4829 non-null object\n",
      "outside_foot_shot_trait               4829 non-null bool\n",
      "playmaker_trait                       4829 non-null bool\n",
      "power_free_kick_trait                 4829 non-null bool\n",
      "power_header_trait                    4829 non-null bool\n",
      "puncher_trait                         4829 non-null bool\n",
      "rushes_out_of_goal_trait              4829 non-null bool\n",
      "saves_with_feet_trait                 4829 non-null bool\n",
      "selfish_trait                         4829 non-null bool\n",
      "skilled_dribbling_trait               4829 non-null bool\n",
      "takes_finesse_free_kicks_trait        4829 non-null bool\n",
      "target_forward_trait                  4829 non-null bool\n",
      "team_player_trait                     4829 non-null bool\n",
      "technical_dribbler_trait              4829 non-null bool\n",
      "tries_to_beat_defensive_line_trait    4829 non-null bool\n",
      "poacher_speciality                    4829 non-null bool\n",
      "speedster_speciality                  4829 non-null bool\n",
      "aerial_threat_speciality              4829 non-null bool\n",
      "preferred_pos                         4829 non-null object\n",
      "dtypes: bool(17), float64(3), int64(30), object(5)\n",
      "memory usage: 1.5+ MB\n"
     ]
    }
   ],
   "source": [
    "# What attributes do we have? What type are they?\n",
    "train.info()"
   ]
  },
  {
   "cell_type": "code",
   "execution_count": 5,
   "metadata": {},
   "outputs": [
    {
     "data": {
      "text/html": [
       "<div>\n",
       "<style scoped>\n",
       "    .dataframe tbody tr th:only-of-type {\n",
       "        vertical-align: middle;\n",
       "    }\n",
       "\n",
       "    .dataframe tbody tr th {\n",
       "        vertical-align: top;\n",
       "    }\n",
       "\n",
       "    .dataframe thead th {\n",
       "        text-align: right;\n",
       "    }\n",
       "</style>\n",
       "<table border=\"1\" class=\"dataframe\">\n",
       "  <thead>\n",
       "    <tr style=\"text-align: right;\">\n",
       "      <th></th>\n",
       "      <th>height_cm</th>\n",
       "      <th>weight_kg</th>\n",
       "      <th>eur_wage</th>\n",
       "      <th>skill_moves</th>\n",
       "      <th>weak_foot</th>\n",
       "      <th>crossing</th>\n",
       "      <th>finishing</th>\n",
       "      <th>heading_accuracy</th>\n",
       "      <th>short_passing</th>\n",
       "      <th>volleys</th>\n",
       "      <th>...</th>\n",
       "      <th>strength</th>\n",
       "      <th>long_shots</th>\n",
       "      <th>aggression</th>\n",
       "      <th>interceptions</th>\n",
       "      <th>positioning</th>\n",
       "      <th>vision</th>\n",
       "      <th>penalties</th>\n",
       "      <th>composure</th>\n",
       "      <th>marking</th>\n",
       "      <th>standing_tackle</th>\n",
       "    </tr>\n",
       "  </thead>\n",
       "  <tbody>\n",
       "    <tr>\n",
       "      <th>count</th>\n",
       "      <td>4829.000000</td>\n",
       "      <td>4829.000000</td>\n",
       "      <td>4829.000000</td>\n",
       "      <td>4829.000000</td>\n",
       "      <td>4829.000000</td>\n",
       "      <td>4829.000000</td>\n",
       "      <td>4829.000000</td>\n",
       "      <td>4829.000000</td>\n",
       "      <td>4829.000000</td>\n",
       "      <td>4829.000000</td>\n",
       "      <td>...</td>\n",
       "      <td>4829.000000</td>\n",
       "      <td>4829.000000</td>\n",
       "      <td>4829.000000</td>\n",
       "      <td>4829.000000</td>\n",
       "      <td>4829.000000</td>\n",
       "      <td>4829.000000</td>\n",
       "      <td>4829.000000</td>\n",
       "      <td>4829.000000</td>\n",
       "      <td>4829.000000</td>\n",
       "      <td>4829.000000</td>\n",
       "    </tr>\n",
       "    <tr>\n",
       "      <th>mean</th>\n",
       "      <td>183.109961</td>\n",
       "      <td>76.990267</td>\n",
       "      <td>10016.359495</td>\n",
       "      <td>2.083868</td>\n",
       "      <td>2.819217</td>\n",
       "      <td>41.739283</td>\n",
       "      <td>39.410644</td>\n",
       "      <td>50.172292</td>\n",
       "      <td>52.684407</td>\n",
       "      <td>37.804307</td>\n",
       "      <td>...</td>\n",
       "      <td>66.328847</td>\n",
       "      <td>40.354111</td>\n",
       "      <td>52.861876</td>\n",
       "      <td>42.873887</td>\n",
       "      <td>42.798716</td>\n",
       "      <td>47.659350</td>\n",
       "      <td>44.654380</td>\n",
       "      <td>54.402568</td>\n",
       "      <td>40.929178</td>\n",
       "      <td>43.800373</td>\n",
       "    </tr>\n",
       "    <tr>\n",
       "      <th>std</th>\n",
       "      <td>6.690962</td>\n",
       "      <td>7.292228</td>\n",
       "      <td>21720.982928</td>\n",
       "      <td>0.726900</td>\n",
       "      <td>0.628180</td>\n",
       "      <td>19.045680</td>\n",
       "      <td>20.721807</td>\n",
       "      <td>20.877075</td>\n",
       "      <td>16.181135</td>\n",
       "      <td>18.377069</td>\n",
       "      <td>...</td>\n",
       "      <td>13.099721</td>\n",
       "      <td>19.790496</td>\n",
       "      <td>19.088383</td>\n",
       "      <td>21.958820</td>\n",
       "      <td>21.213381</td>\n",
       "      <td>14.071487</td>\n",
       "      <td>17.119506</td>\n",
       "      <td>14.146100</td>\n",
       "      <td>23.301924</td>\n",
       "      <td>23.571392</td>\n",
       "    </tr>\n",
       "    <tr>\n",
       "      <th>min</th>\n",
       "      <td>156.000000</td>\n",
       "      <td>49.000000</td>\n",
       "      <td>0.000000</td>\n",
       "      <td>1.000000</td>\n",
       "      <td>1.000000</td>\n",
       "      <td>6.000000</td>\n",
       "      <td>3.000000</td>\n",
       "      <td>4.000000</td>\n",
       "      <td>10.000000</td>\n",
       "      <td>4.000000</td>\n",
       "      <td>...</td>\n",
       "      <td>20.000000</td>\n",
       "      <td>3.000000</td>\n",
       "      <td>11.000000</td>\n",
       "      <td>4.000000</td>\n",
       "      <td>2.000000</td>\n",
       "      <td>10.000000</td>\n",
       "      <td>5.000000</td>\n",
       "      <td>5.000000</td>\n",
       "      <td>4.000000</td>\n",
       "      <td>7.000000</td>\n",
       "    </tr>\n",
       "    <tr>\n",
       "      <th>25%</th>\n",
       "      <td>178.000000</td>\n",
       "      <td>72.000000</td>\n",
       "      <td>1000.000000</td>\n",
       "      <td>2.000000</td>\n",
       "      <td>2.000000</td>\n",
       "      <td>27.000000</td>\n",
       "      <td>21.000000</td>\n",
       "      <td>40.000000</td>\n",
       "      <td>42.000000</td>\n",
       "      <td>23.000000</td>\n",
       "      <td>...</td>\n",
       "      <td>58.000000</td>\n",
       "      <td>22.000000</td>\n",
       "      <td>36.000000</td>\n",
       "      <td>22.000000</td>\n",
       "      <td>25.000000</td>\n",
       "      <td>37.000000</td>\n",
       "      <td>33.000000</td>\n",
       "      <td>46.000000</td>\n",
       "      <td>18.000000</td>\n",
       "      <td>19.000000</td>\n",
       "    </tr>\n",
       "    <tr>\n",
       "      <th>50%</th>\n",
       "      <td>184.000000</td>\n",
       "      <td>77.000000</td>\n",
       "      <td>3000.000000</td>\n",
       "      <td>2.000000</td>\n",
       "      <td>3.000000</td>\n",
       "      <td>43.000000</td>\n",
       "      <td>38.000000</td>\n",
       "      <td>55.000000</td>\n",
       "      <td>57.000000</td>\n",
       "      <td>37.000000</td>\n",
       "      <td>...</td>\n",
       "      <td>67.000000</td>\n",
       "      <td>42.000000</td>\n",
       "      <td>56.000000</td>\n",
       "      <td>45.000000</td>\n",
       "      <td>47.000000</td>\n",
       "      <td>48.000000</td>\n",
       "      <td>45.000000</td>\n",
       "      <td>56.000000</td>\n",
       "      <td>42.000000</td>\n",
       "      <td>46.000000</td>\n",
       "    </tr>\n",
       "    <tr>\n",
       "      <th>75%</th>\n",
       "      <td>188.000000</td>\n",
       "      <td>82.000000</td>\n",
       "      <td>9000.000000</td>\n",
       "      <td>3.000000</td>\n",
       "      <td>3.000000</td>\n",
       "      <td>58.000000</td>\n",
       "      <td>58.000000</td>\n",
       "      <td>66.000000</td>\n",
       "      <td>65.000000</td>\n",
       "      <td>52.000000</td>\n",
       "      <td>...</td>\n",
       "      <td>76.000000</td>\n",
       "      <td>57.000000</td>\n",
       "      <td>68.000000</td>\n",
       "      <td>63.000000</td>\n",
       "      <td>60.000000</td>\n",
       "      <td>58.000000</td>\n",
       "      <td>58.000000</td>\n",
       "      <td>65.000000</td>\n",
       "      <td>63.000000</td>\n",
       "      <td>66.000000</td>\n",
       "    </tr>\n",
       "    <tr>\n",
       "      <th>max</th>\n",
       "      <td>203.000000</td>\n",
       "      <td>107.000000</td>\n",
       "      <td>510000.000000</td>\n",
       "      <td>5.000000</td>\n",
       "      <td>5.000000</td>\n",
       "      <td>90.000000</td>\n",
       "      <td>94.000000</td>\n",
       "      <td>94.000000</td>\n",
       "      <td>88.000000</td>\n",
       "      <td>88.000000</td>\n",
       "      <td>...</td>\n",
       "      <td>96.000000</td>\n",
       "      <td>90.000000</td>\n",
       "      <td>94.000000</td>\n",
       "      <td>90.000000</td>\n",
       "      <td>92.000000</td>\n",
       "      <td>86.000000</td>\n",
       "      <td>90.000000</td>\n",
       "      <td>91.000000</td>\n",
       "      <td>90.000000</td>\n",
       "      <td>92.000000</td>\n",
       "    </tr>\n",
       "  </tbody>\n",
       "</table>\n",
       "<p>8 rows × 33 columns</p>\n",
       "</div>"
      ],
      "text/plain": [
       "         height_cm    weight_kg       eur_wage  skill_moves    weak_foot  \\\n",
       "count  4829.000000  4829.000000    4829.000000  4829.000000  4829.000000   \n",
       "mean    183.109961    76.990267   10016.359495     2.083868     2.819217   \n",
       "std       6.690962     7.292228   21720.982928     0.726900     0.628180   \n",
       "min     156.000000    49.000000       0.000000     1.000000     1.000000   \n",
       "25%     178.000000    72.000000    1000.000000     2.000000     2.000000   \n",
       "50%     184.000000    77.000000    3000.000000     2.000000     3.000000   \n",
       "75%     188.000000    82.000000    9000.000000     3.000000     3.000000   \n",
       "max     203.000000   107.000000  510000.000000     5.000000     5.000000   \n",
       "\n",
       "          crossing    finishing  heading_accuracy  short_passing      volleys  \\\n",
       "count  4829.000000  4829.000000       4829.000000    4829.000000  4829.000000   \n",
       "mean     41.739283    39.410644         50.172292      52.684407    37.804307   \n",
       "std      19.045680    20.721807         20.877075      16.181135    18.377069   \n",
       "min       6.000000     3.000000          4.000000      10.000000     4.000000   \n",
       "25%      27.000000    21.000000         40.000000      42.000000    23.000000   \n",
       "50%      43.000000    38.000000         55.000000      57.000000    37.000000   \n",
       "75%      58.000000    58.000000         66.000000      65.000000    52.000000   \n",
       "max      90.000000    94.000000         94.000000      88.000000    88.000000   \n",
       "\n",
       "       ...     strength   long_shots   aggression  interceptions  positioning  \\\n",
       "count  ...  4829.000000  4829.000000  4829.000000    4829.000000  4829.000000   \n",
       "mean   ...    66.328847    40.354111    52.861876      42.873887    42.798716   \n",
       "std    ...    13.099721    19.790496    19.088383      21.958820    21.213381   \n",
       "min    ...    20.000000     3.000000    11.000000       4.000000     2.000000   \n",
       "25%    ...    58.000000    22.000000    36.000000      22.000000    25.000000   \n",
       "50%    ...    67.000000    42.000000    56.000000      45.000000    47.000000   \n",
       "75%    ...    76.000000    57.000000    68.000000      63.000000    60.000000   \n",
       "max    ...    96.000000    90.000000    94.000000      90.000000    92.000000   \n",
       "\n",
       "            vision    penalties    composure      marking  standing_tackle  \n",
       "count  4829.000000  4829.000000  4829.000000  4829.000000      4829.000000  \n",
       "mean     47.659350    44.654380    54.402568    40.929178        43.800373  \n",
       "std      14.071487    17.119506    14.146100    23.301924        23.571392  \n",
       "min      10.000000     5.000000     5.000000     4.000000         7.000000  \n",
       "25%      37.000000    33.000000    46.000000    18.000000        19.000000  \n",
       "50%      48.000000    45.000000    56.000000    42.000000        46.000000  \n",
       "75%      58.000000    58.000000    65.000000    63.000000        66.000000  \n",
       "max      86.000000    90.000000    91.000000    90.000000        92.000000  \n",
       "\n",
       "[8 rows x 33 columns]"
      ]
     },
     "execution_count": 5,
     "metadata": {},
     "output_type": "execute_result"
    }
   ],
   "source": [
    "# Statisticaly describing the data\n",
    "train.describe()"
   ]
  },
  {
   "cell_type": "code",
   "execution_count": 6,
   "metadata": {},
   "outputs": [
    {
     "name": "stdout",
     "output_type": "stream",
     "text": [
      "(4829, 55)\n",
      "(4829, 54)\n"
     ]
    }
   ],
   "source": [
    "# Checking the data size\n",
    "print(train.shape)\n",
    "print(test.shape)"
   ]
  },
  {
   "cell_type": "code",
   "execution_count": 7,
   "metadata": {},
   "outputs": [
    {
     "data": {
      "text/plain": [
       "15"
      ]
     },
     "execution_count": 7,
     "metadata": {},
     "output_type": "execute_result"
    }
   ],
   "source": [
    "# Finding out how many classes exists\n",
    "train['preferred_pos'].nunique()"
   ]
  },
  {
   "cell_type": "code",
   "execution_count": 8,
   "metadata": {},
   "outputs": [],
   "source": [
    "# Spliting train and test sets\n",
    "ans['ID'] = test['ID']\n",
    "X_train = train.drop(['preferred_pos', 'ID'], axis = 1)\n",
    "y_train = train['preferred_pos']\n",
    "X_test = test.drop(['ID'], axis = 1)"
   ]
  },
  {
   "cell_type": "code",
   "execution_count": 9,
   "metadata": {},
   "outputs": [
    {
     "name": "stdout",
     "output_type": "stream",
     "text": [
      "0\n",
      "0\n"
     ]
    }
   ],
   "source": [
    "# Check for nulls\n",
    "count_nan_train = len(X_train) - X_train.count()\n",
    "count_nan_test = len(X_test) - X_test.count()\n",
    "print(count_nan_train.sum())\n",
    "print(count_nan_test.sum())"
   ]
  },
  {
   "cell_type": "code",
   "execution_count": 10,
   "metadata": {},
   "outputs": [
    {
     "data": {
      "text/plain": [
       "Counter({'prefers_gk': 965,\n",
       "         'prefers_cm': 398,\n",
       "         'prefers_st': 929,\n",
       "         'prefers_cb': 1117,\n",
       "         'prefers_rb': 318,\n",
       "         'prefers_lb': 342,\n",
       "         'prefers_cdm': 213,\n",
       "         'prefers_cam': 157,\n",
       "         'prefers_rw': 53,\n",
       "         'prefers_lm': 124,\n",
       "         'prefers_rm': 158,\n",
       "         'prefers_lw': 37,\n",
       "         'prefers_lwb': 4,\n",
       "         'prefers_cf': 12,\n",
       "         'prefers_rwb': 2})"
      ]
     },
     "execution_count": 10,
     "metadata": {},
     "output_type": "execute_result"
    },
    {
     "data": {
      "image/png": "[encoded data removed]",
      "text/plain": [
       "<Figure size 432x288 with 1 Axes>"
      ]
     },
     "metadata": {
      "needs_background": "light"
     },
     "output_type": "display_data"
    }
   ],
   "source": [
    "# Checking dataset balance\n",
    "sns.countplot(y_train)\n",
    "cll.Counter(y_train)"
   ]
  },
  {
   "cell_type": "code",
   "execution_count": 11,
   "metadata": {},
   "outputs": [],
   "source": [
    "# Where the posision quantity is too low, change the label to a more commum position (to increase accuracy)\n",
    "for i in range(len(y_train)):\n",
    "    if y_train[i] == 'prefers_rwb' or y_train[i] == 'prefers_lwb' or y_train[i] =='prefers_lw' or y_train[i] =='prefers_cf' or y_train[i] =='prefers_rw':\n",
    "        y_train[i] = 'prefers_cb'"
   ]
  },
  {
   "cell_type": "markdown",
   "metadata": {},
   "source": [
    "#### Bodyshape Analysis"
   ]
  },
  {
   "cell_type": "code",
   "execution_count": 12,
   "metadata": {},
   "outputs": [
    {
     "name": "stdout",
     "output_type": "stream",
     "text": [
      "['Stocky' 'Normal' 'Lean' 'Courtois']\n",
      "['Normal' 'Stocky' 'Lean' 'Akinfenwa' 'Neymar']\n"
     ]
    }
   ],
   "source": [
    "print(X_train['body_type'].unique())\n",
    "print(X_test['body_type'].unique())"
   ]
  },
  {
   "cell_type": "raw",
   "metadata": {},
   "source": [
    "Courtois -> Lean \n",
    "Akinfenwa -> Stocky\n",
    "Neymar -> Lean"
   ]
  },
  {
   "cell_type": "code",
   "execution_count": 13,
   "metadata": {},
   "outputs": [],
   "source": [
    "# Changing strange body types\n",
    "for i in range(len(X_train)):\n",
    "    if X_train['body_type'][i] == 'Courtois':\n",
    "        X_train['body_type'][i] = 'Lean'\n",
    "        \n",
    "for i in range(len(X_test)):\n",
    "    if X_test['body_type'][i] == 'Akinfenwa':\n",
    "        X_test['body_type'][i] = 'Stocky' \n",
    "    if X_test['body_type'][i] == 'Neymar':\n",
    "        X_test['body_type'][i] = 'Lean'"
   ]
  },
  {
   "cell_type": "markdown",
   "metadata": {},
   "source": [
    "#### Dummy variables"
   ]
  },
  {
   "cell_type": "code",
   "execution_count": 14,
   "metadata": {},
   "outputs": [],
   "source": [
    "body_shape = pd.get_dummies(X_train['body_type'])\n",
    "X_train = pd.concat([X_train, body_shape], axis = 1).drop(['body_type'], axis = 1)"
   ]
  },
  {
   "cell_type": "code",
   "execution_count": 15,
   "metadata": {},
   "outputs": [],
   "source": [
    "X_train.drop(['nationality'], axis = 1, inplace = True)"
   ]
  },
  {
   "cell_type": "code",
   "execution_count": 16,
   "metadata": {},
   "outputs": [],
   "source": [
    "preferred_foot = pd.get_dummies(X_train['preferred_foot'])\n",
    "X_train = pd.concat([X_train, preferred_foot], axis = 1).drop(['preferred_foot'], axis = 1)"
   ]
  },
  {
   "cell_type": "markdown",
   "metadata": {},
   "source": [
    "#### Correlation"
   ]
  },
  {
   "cell_type": "code",
   "execution_count": 17,
   "metadata": {},
   "outputs": [
    {
     "data": {
      "text/plain": [
       "<matplotlib.axes._subplots.AxesSubplot at 0x7f9583b51320>"
      ]
     },
     "execution_count": 17,
     "metadata": {},
     "output_type": "execute_result"
    },
    {
     "data": {
      "image/png": "[encoded data removed]",
      "text/plain": [
       "<Figure size 864x864 with 2 Axes>"
      ]
     },
     "metadata": {
      "needs_background": "light"
     },
     "output_type": "display_data"
    }
   ],
   "source": [
    "# Correlation between the attributes\n",
    "plt.figure(figsize=(12,12))\n",
    "sns.heatmap(X_train.corr(),cmap='Blues')"
   ]
  },
  {
   "cell_type": "markdown",
   "metadata": {},
   "source": [
    "### Scaling attributes"
   ]
  },
  {
   "cell_type": "code",
   "execution_count": 18,
   "metadata": {},
   "outputs": [],
   "source": [
    "features = X_train.columns\n",
    "Scaler = preprocessing.StandardScaler()\n",
    "X_train = Scaler.fit_transform(X_train)"
   ]
  },
  {
   "cell_type": "markdown",
   "metadata": {},
   "source": [
    "# Models"
   ]
  },
  {
   "cell_type": "code",
   "execution_count": 19,
   "metadata": {},
   "outputs": [],
   "source": [
    "# Using k_folds to evaluate\n",
    "k_fold = KFold(n_splits=10, shuffle=True, random_state=42)\n",
    "scoring = 'accuracy'"
   ]
  },
  {
   "cell_type": "markdown",
   "metadata": {},
   "source": [
    "### Random Forest"
   ]
  },
  {
   "cell_type": "code",
   "execution_count": 20,
   "metadata": {},
   "outputs": [
    {
     "name": "stdout",
     "output_type": "stream",
     "text": [
      "86.35\n",
      "CPU times: user 6.46 s, sys: 7.39 ms, total: 6.47 s\n",
      "Wall time: 6.35 s\n"
     ]
    }
   ],
   "source": [
    "%%time\n",
    "rfc = RandomForestClassifier(n_estimators=100)\n",
    "score = cross_val_score(rfc, X_train, y_train, cv=k_fold, n_jobs=1, scoring=scoring)\n",
    "print(round(np.mean(score)*100, 2))"
   ]
  },
  {
   "cell_type": "markdown",
   "metadata": {},
   "source": [
    "## Naive Bayes"
   ]
  },
  {
   "cell_type": "code",
   "execution_count": 21,
   "metadata": {},
   "outputs": [
    {
     "name": "stdout",
     "output_type": "stream",
     "text": [
      "78.19\n"
     ]
    }
   ],
   "source": [
    "bnb = BernoulliNB()\n",
    "score = cross_val_score(bnb, X_train, y_train, cv=k_fold, n_jobs=1, scoring=scoring)\n",
    "print(round(np.mean(score)*100, 2))"
   ]
  },
  {
   "cell_type": "markdown",
   "metadata": {},
   "source": [
    "## Neural Network"
   ]
  },
  {
   "cell_type": "code",
   "execution_count": 22,
   "metadata": {},
   "outputs": [
    {
     "name": "stdout",
     "output_type": "stream",
     "text": [
      "84.1\n",
      "CPU times: user 36.7 s, sys: 27.3 ms, total: 36.8 s\n",
      "Wall time: 9.2 s\n"
     ]
    }
   ],
   "source": [
    "%%time\n",
    "mlp = MLPClassifier(solver='lbfgs', alpha=1e-5, hidden_layer_sizes=(25, 15, 5), random_state=1,early_stopping=True)\n",
    "score = cross_val_score(mlp, X_train, y_train, cv=k_fold, n_jobs=1, scoring=scoring)\n",
    "print(round(np.mean(score)*100, 2))"
   ]
  },
  {
   "cell_type": "markdown",
   "metadata": {},
   "source": [
    "## XGBoost"
   ]
  },
  {
   "cell_type": "code",
   "execution_count": 23,
   "metadata": {},
   "outputs": [
    {
     "name": "stdout",
     "output_type": "stream",
     "text": [
      "87.31\n"
     ]
    }
   ],
   "source": [
    "n_estimators = [50, 100, 150, 200]\n",
    "max_depth = [2, 4, 6, 8]\n",
    "param_grid = dict(max_depth=max_depth, n_estimators=n_estimators)\n",
    "\n",
    "xgb = XGBClassifier()\n",
    "\n",
    "grid_search = GridSearchCV(xgb, param_grid, scoring=\"neg_log_loss\", n_jobs=-1, cv=k_fold, verbose=0)\n",
    "score = cross_val_score(grid_search, X_train, y_train, cv=k_fold, n_jobs=1, scoring=scoring)\n",
    "print(round(np.mean(score)*100, 2))"
   ]
  },
  {
   "cell_type": "code",
   "execution_count": 24,
   "metadata": {},
   "outputs": [
    {
     "data": {
      "text/plain": [
       "{'max_depth': 4, 'n_estimators': 150}"
      ]
     },
     "execution_count": 24,
     "metadata": {},
     "output_type": "execute_result"
    }
   ],
   "source": [
    "best_xgb = grid_search.fit(X_train, y_train)\n",
    "best_xgb.best_params_"
   ]
  },
  {
   "cell_type": "markdown",
   "metadata": {},
   "source": [
    "## Feature importance"
   ]
  },
  {
   "cell_type": "code",
   "execution_count": 25,
   "metadata": {},
   "outputs": [
    {
     "data": {
      "image/png": "[encoded data removed]",
      "text/plain": [
       "<Figure size 432x288 with 1 Axes>"
      ]
     },
     "metadata": {
      "needs_background": "light"
     },
     "output_type": "display_data"
    }
   ],
   "source": [
    "# Fit on the Random Forest to calculate the feature importance for each attribute\n",
    "rfc.fit(X_train, y_train)\n",
    "importances = rfc.feature_importances_\n",
    "indices = np.argsort(importances)\n",
    "# Print the top 15 feature ranking\n",
    "quant = 15\n",
    "plt.title('Feature Importances')\n",
    "plt.barh(range(quant), importances[indices][-quant:], color='b', align='center')\n",
    "plt.yticks(range(quant), [features[i] for i in indices[-quant:]])\n",
    "plt.xlabel('Relative Importance')\n",
    "plt.show()"
   ]
  },
  {
   "cell_type": "markdown",
   "metadata": {},
   "source": [
    "# Making the submission"
   ]
  },
  {
   "cell_type": "code",
   "execution_count": 26,
   "metadata": {},
   "outputs": [],
   "source": [
    "# Pre-processing the test data\n",
    "body_shape = pd.get_dummies(X_test['body_type'])\n",
    "X_test = pd.concat([X_test, body_shape], axis = 1).drop(['body_type'], axis = 1)\n",
    "\n",
    "X_test.drop(['nationality'], axis = 1, inplace = True)\n",
    "\n",
    "preferred_foot = pd.get_dummies(X_test['preferred_foot'])\n",
    "X_test = pd.concat([X_test, preferred_foot], axis = 1).drop(['preferred_foot'], axis = 1)\n",
    "\n",
    "X_test = Scaler.fit_transform(X_test)"
   ]
  },
  {
   "cell_type": "code",
   "execution_count": 27,
   "metadata": {},
   "outputs": [],
   "source": [
    "# Making the prediction\n",
    "prediction = best_xgb.predict(X_test)\n",
    "ans['preferred_pos'] = prediction\n",
    "\n",
    "ans.to_csv('answer.csv', index=False)"
   ]
  }
 ],
 "metadata": {
  "kernelspec": {
   "display_name": "Python [conda env:dl]",
   "language": "python",
   "name": "conda-env-dl-py"
  },
  "language_info": {
   "codemirror_mode": {
    "name": "ipython",
    "version": 3
   },
   "file_extension": ".py",
   "mimetype": "text/x-python",
   "name": "python",
   "nbconvert_exporter": "python",
   "pygments_lexer": "ipython3",
   "version": "3.6.8"
  }
 },
 "nbformat": 4,
 "nbformat_minor": 2
}
